{
 "cells": [
  {
   "cell_type": "markdown",
   "metadata": {},
   "source": [
    "1. Dataset has been Downloaded and saved"
   ]
  },
  {
   "cell_type": "markdown",
   "metadata": {},
   "source": [
    "2. Image Augmentation"
   ]
  },
  {
   "cell_type": "code",
   "execution_count": 1,
   "metadata": {},
   "outputs": [],
   "source": [
    "from keras.utils import load_img, img_to_array\n",
    "from keras.preprocessing.image import ImageDataGenerator, image_utils\n",
    "from keras.models import Sequential\n",
    "from keras.layers import Convolution2D, MaxPooling2D, Flatten, Dense, Dropout\n",
    "import numpy as np"
   ]
  },
  {
   "cell_type": "markdown",
   "metadata": {},
   "source": [
    "2.1 Augmenting the Train Variables"
   ]
  },
  {
   "cell_type": "code",
   "execution_count": 2,
   "metadata": {},
   "outputs": [],
   "source": [
    "train_datagen = ImageDataGenerator(\n",
    "    rotation_range = 40,\n",
    "    shear_range = 0.2,\n",
    "    zoom_range = 0.2,\n",
    "    horizontal_flip = True,\n",
    "    brightness_range = (0.5, 1.5)\n",
    ")"
   ]
  },
  {
   "cell_type": "markdown",
   "metadata": {},
   "source": [
    "2.2 Augmenting the Test variables"
   ]
  },
  {
   "cell_type": "code",
   "execution_count": 3,
   "metadata": {},
   "outputs": [],
   "source": [
    "test_datagen = ImageDataGenerator(rescale= 1./255)"
   ]
  },
  {
   "cell_type": "code",
   "execution_count": 5,
   "metadata": {},
   "outputs": [
    {
     "name": "stdout",
     "output_type": "stream",
     "text": [
      "Found 4317 images belonging to 5 classes.\n"
     ]
    }
   ],
   "source": [
    "ftrain = train_datagen.flow_from_directory(\n",
    "    '../Dataset/Flowers/Train',\n",
    "    target_size = (64,64),\n",
    "    class_mode = 'categorical',\n",
    "    batch_size = 100\n",
    ")"
   ]
  },
  {
   "cell_type": "code",
   "execution_count": 6,
   "metadata": {},
   "outputs": [
    {
     "name": "stdout",
     "output_type": "stream",
     "text": [
      "Found 500 images belonging to 5 classes.\n"
     ]
    }
   ],
   "source": [
    "ftest = test_datagen.flow_from_directory(\n",
    "    '../Dataset/Flowers/Test',\n",
    "    target_size = (64,64),\n",
    "    class_mode = 'categorical',\n",
    "    batch_size = 100\n",
    ")"
   ]
  },
  {
   "cell_type": "markdown",
   "metadata": {},
   "source": [
    "3. Creating the Model"
   ]
  },
  {
   "cell_type": "code",
   "execution_count": 8,
   "metadata": {},
   "outputs": [],
   "source": [
    "model = Sequential()"
   ]
  },
  {
   "cell_type": "markdown",
   "metadata": {},
   "source": [
    "4. Adding Layers (Convolution Layers, MaxPooling, Flatten, Dense)"
   ]
  },
  {
   "cell_type": "code",
   "execution_count": 9,
   "metadata": {},
   "outputs": [],
   "source": [
    "model.add(Convolution2D(32, (3,3), activation = 'relu', input_shape = (64, 64, 3)))\n",
    "model.add(MaxPooling2D(pool_size= (2,2)))\n",
    "model.add(Flatten())\n",
    "model.add(Dropout(0.25))\n",
    "model.add(Dense(400, activation = 'relu'))\n",
    "model.add(Dropout(0.25))\n",
    "model.add(Dense(200, activation = 'relu'))\n",
    "model.add(Dropout(0.25))\n",
    "model.add(Dense(5, activation = 'softmax'))"
   ]
  },
  {
   "cell_type": "markdown",
   "metadata": {},
   "source": [
    "5. Compiling the Model"
   ]
  },
  {
   "cell_type": "code",
   "execution_count": 10,
   "metadata": {},
   "outputs": [],
   "source": [
    "model.compile(\n",
    "    optimizer='adam',\n",
    "    loss='categorical_crossentropy',\n",
    "    metrics=['accuracy']\n",
    ")"
   ]
  },
  {
   "cell_type": "markdown",
   "metadata": {},
   "source": [
    "6. Fitting the model"
   ]
  },
  {
   "cell_type": "code",
   "execution_count": 11,
   "metadata": {},
   "outputs": [
    {
     "name": "stdout",
     "output_type": "stream",
     "text": [
      "Epoch 1/10\n",
      "44/44 [==============================] - 89s 2s/step - loss: 99.9575 - accuracy: 0.2682 - val_loss: 1.5955 - val_accuracy: 0.3680\n",
      "Epoch 2/10\n",
      "44/44 [==============================] - 42s 944ms/step - loss: 2.6512 - accuracy: 0.3185 - val_loss: 1.6041 - val_accuracy: 0.2220\n",
      "Epoch 3/10\n",
      "44/44 [==============================] - 44s 985ms/step - loss: 1.9049 - accuracy: 0.3651 - val_loss: 1.6057 - val_accuracy: 0.2040\n",
      "Epoch 4/10\n",
      "44/44 [==============================] - 34s 759ms/step - loss: 1.6433 - accuracy: 0.3815 - val_loss: 1.6060 - val_accuracy: 0.2000\n",
      "Epoch 5/10\n",
      "44/44 [==============================] - 35s 792ms/step - loss: 1.5581 - accuracy: 0.3843 - val_loss: 1.6107 - val_accuracy: 0.2000\n",
      "Epoch 6/10\n",
      "44/44 [==============================] - 34s 760ms/step - loss: 1.4773 - accuracy: 0.4054 - val_loss: 1.6233 - val_accuracy: 0.2000\n",
      "Epoch 7/10\n",
      "44/44 [==============================] - 34s 762ms/step - loss: 1.4374 - accuracy: 0.4267 - val_loss: 1.6656 - val_accuracy: 0.2000\n",
      "Epoch 8/10\n",
      "44/44 [==============================] - 37s 833ms/step - loss: 1.4063 - accuracy: 0.4355 - val_loss: 1.6881 - val_accuracy: 0.2000\n",
      "Epoch 9/10\n",
      "44/44 [==============================] - 33s 754ms/step - loss: 1.3615 - accuracy: 0.4487 - val_loss: 1.7567 - val_accuracy: 0.2000\n",
      "Epoch 10/10\n",
      "44/44 [==============================] - 34s 764ms/step - loss: 1.3390 - accuracy: 0.4640 - val_loss: 1.7857 - val_accuracy: 0.2000\n"
     ]
    },
    {
     "data": {
      "text/plain": [
       "<keras.callbacks.History at 0x1ea70be4a90>"
      ]
     },
     "execution_count": 11,
     "metadata": {},
     "output_type": "execute_result"
    }
   ],
   "source": [
    "model.fit(\n",
    "    ftrain,\n",
    "    steps_per_epoch = len(ftrain),\n",
    "    epochs = 10,\n",
    "    validation_data = ftest,\n",
    "    validation_steps = len(ftest)\n",
    ")"
   ]
  },
  {
   "cell_type": "markdown",
   "metadata": {},
   "source": [
    "7. Saving the model"
   ]
  },
  {
   "cell_type": "code",
   "execution_count": 12,
   "metadata": {},
   "outputs": [],
   "source": [
    "model.save('./flowers.h5')"
   ]
  },
  {
   "cell_type": "markdown",
   "metadata": {},
   "source": [
    "8. Testing the model"
   ]
  },
  {
   "cell_type": "markdown",
   "metadata": {},
   "source": [
    "8.1 Test 1"
   ]
  },
  {
   "cell_type": "code",
   "execution_count": 13,
   "metadata": {},
   "outputs": [
    {
     "name": "stdout",
     "output_type": "stream",
     "text": [
      "1/1 [==============================] - 0s 372ms/step\n"
     ]
    },
    {
     "data": {
      "text/plain": [
       "'daisy'"
      ]
     },
     "execution_count": 13,
     "metadata": {},
     "output_type": "execute_result"
    }
   ],
   "source": [
    "img = image_utils.load_img(\n",
    "    '../Dataset/Flowers/Test/daisy/19834392829_7d697871f6.jpg',\n",
    "    target_size = (64,64)\n",
    ")\n",
    "f = image_utils.img_to_array(img)\n",
    "f = np.expand_dims(f, axis = 0)\n",
    "pred = np.argmax(model.predict(f))\n",
    "op = ['daisy', 'dandelion', 'rose', 'sunflower', 'tulip']\n",
    "op[pred]"
   ]
  },
  {
   "cell_type": "markdown",
   "metadata": {},
   "source": [
    "8.2 Test 2"
   ]
  },
  {
   "cell_type": "code",
   "execution_count": 14,
   "metadata": {},
   "outputs": [
    {
     "name": "stdout",
     "output_type": "stream",
     "text": [
      "1/1 [==============================] - 0s 39ms/step\n"
     ]
    },
    {
     "data": {
      "text/plain": [
       "'dandelion'"
      ]
     },
     "execution_count": 14,
     "metadata": {},
     "output_type": "execute_result"
    }
   ],
   "source": [
    "img = image_utils.load_img(\n",
    "    '../Dataset/Flowers/Test/dandelion/33875654554_e5e4070fab_n.jpg',\n",
    "    target_size = (64,64)\n",
    ")\n",
    "f = image_utils.img_to_array(img)\n",
    "f = np.expand_dims(f, axis = 0)\n",
    "pred = np.argmax(model.predict(f))\n",
    "op = ['daisy', 'dandelion', 'rose', 'sunflower', 'tulip']\n",
    "op[pred]"
   ]
  },
  {
   "cell_type": "markdown",
   "metadata": {},
   "source": [
    "Conclusion: In both the above test cases the model has been passed"
   ]
  }
 ],
 "metadata": {
  "kernelspec": {
   "display_name": "Python 3.10.8 64-bit",
   "language": "python",
   "name": "python3"
  },
  "language_info": {
   "codemirror_mode": {
    "name": "ipython",
    "version": 3
   },
   "file_extension": ".py",
   "mimetype": "text/x-python",
   "name": "python",
   "nbconvert_exporter": "python",
   "pygments_lexer": "ipython3",
   "version": "3.10.8"
  },
  "orig_nbformat": 4,
  "vscode": {
   "interpreter": {
    "hash": "76d7c06053c3456e5600312cec90888656fc0ed30c03d8425b9dac6e4fc8e014"
   }
  }
 },
 "nbformat": 4,
 "nbformat_minor": 2
}
